{
 "cells": [
  {
   "cell_type": "code",
   "execution_count": 1,
   "metadata": {},
   "outputs": [],
   "source": [
    "from PIL import Image\n",
    "import numpy as np\n",
    "import matplotlib.pyplot as plt"
   ]
  },
  {
   "attachments": {},
   "cell_type": "markdown",
   "metadata": {},
   "source": [
    "## Gif processing"
   ]
  },
  {
   "cell_type": "code",
   "execution_count": 24,
   "metadata": {},
   "outputs": [],
   "source": [
    "def process_gif(file:str)->np.array:\n",
    "    # Open the original GIF file\n",
    "    with Image.open(file) as im:\n",
    "        w, h = im.size\n",
    "        n_frames = im.n_frames\n",
    "\n",
    "        # Create an empty numpy array to hold the frames of the new GIF file\n",
    "        out = np.empty((n_frames, h, w, 3), dtype=np.uint8)\n",
    "\n",
    "        # Loop over each frame of the original GIF file and copy it into the numpy array\n",
    "        for i in range(n_frames):\n",
    "            im.seek(i)\n",
    "            out[i] = np.array(im.convert('RGB'))\n",
    "    return out"
   ]
  },
  {
   "cell_type": "code",
   "execution_count": 31,
   "metadata": {},
   "outputs": [],
   "source": [
    "\n",
    "# Convert the numpy array back to a list of PIL Image objects\n",
    "frames = [Image.fromarray(out[i], mode='RGB') for i in range(n_frames-1,0,-1)]\n",
    "\n",
    "# Save the new GIF file\n",
    "frames[0].save('new_catgif.gif', format='GIF', save_all=True, append_images=frames[1:], duration=80, loop=0)"
   ]
  },
  {
   "cell_type": "code",
   "execution_count": null,
   "metadata": {},
   "outputs": [],
   "source": []
  }
 ],
 "metadata": {
  "kernelspec": {
   "display_name": "Python 3",
   "language": "python",
   "name": "python3"
  },
  "language_info": {
   "codemirror_mode": {
    "name": "ipython",
    "version": 3
   },
   "file_extension": ".py",
   "mimetype": "text/x-python",
   "name": "python",
   "nbconvert_exporter": "python",
   "pygments_lexer": "ipython3",
   "version": "3.11.1"
  },
  "orig_nbformat": 4,
  "vscode": {
   "interpreter": {
    "hash": "ed86cd87725ed3eb26236ff68aec3c2b48ba86ad759f4f31f53d096e39ba85b5"
   }
  }
 },
 "nbformat": 4,
 "nbformat_minor": 2
}
