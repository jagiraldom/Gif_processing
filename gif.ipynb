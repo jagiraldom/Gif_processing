{
 "cells": [
  {
   "cell_type": "code",
   "execution_count": 54,
   "metadata": {},
   "outputs": [],
   "source": [
    "from PIL import Image, ImageDraw, ImageOps\n",
    "import numpy as np\n",
    "import matplotlib.pyplot as plt\n",
    "import pandas as pd \n",
    "import scipy as sc"
   ]
  },
  {
   "cell_type": "markdown",
   "metadata": {},
   "source": [
    "## Gif processing"
   ]
  },
  {
   "cell_type": "code",
   "execution_count": 55,
   "metadata": {},
   "outputs": [],
   "source": [
    "def process_gif(file:str)->np.array:\n",
    "    \"\"\"\n",
    "    Return the input file (gif) as a numpy array\n",
    "    \"\"\"\n",
    "    # Open the original GIF file\n",
    "    with Image.open(file) as im:\n",
    "        w, h = im.size \n",
    "        n = im.n_frames\n",
    "\n",
    "        # Create an empty numpy array to hold the frames of the new GIF file\n",
    "        out = np.empty((n, h, w, 3), dtype=np.uint8)\n",
    "\n",
    "        # Loop over each frame of the original GIF file and copy it into the numpy array\n",
    "        for i in range(n):\n",
    "            im.seek(i)\n",
    "            out[i] = np.array(im.convert('RGB'))\n",
    "    return out"
   ]
  },
  {
   "cell_type": "code",
   "execution_count": 56,
   "metadata": {},
   "outputs": [],
   "source": [
    "out = process_gif(\"catgif.gif\")\n",
    "# Convert the numpy array back to a list of PIL Image objects\n",
    "frames = [Image.fromarray(out[i], mode='RGB') for i in range(len(out))]\n",
    "\n",
    "# Save the new GIF file\n",
    "frames[0].save('new_catgif.gif', format='GIF', save_all=True, append_images=frames[1:], duration=80, loop=0)"
   ]
  },
  {
   "attachments": {},
   "cell_type": "markdown",
   "metadata": {},
   "source": [
    "## Some filters"
   ]
  },
  {
   "cell_type": "code",
   "execution_count": 57,
   "metadata": {},
   "outputs": [],
   "source": [
    "#FLIP THE CAT\n",
    "out_flipped = np.flip(out, axis=2)\n",
    "\n",
    "frames = [Image.fromarray(out_flipped[i], mode='RGB') for i in range(len(out_flipped))]\n",
    "\n",
    "frames[0].save('flip_catgif.gif', format='GIF', save_all=True, append_images=frames[1:], duration=80, loop=0)"
   ]
  },
  {
   "cell_type": "code",
   "execution_count": 58,
   "metadata": {},
   "outputs": [
    {
     "name": "stderr",
     "output_type": "stream",
     "text": [
      "C:\\Users\\jagiraldo\\AppData\\Local\\Temp\\ipykernel_1344\\3359974845.py:2: DeprecationWarning: Please use `gaussian_filter` from the `scipy.ndimage` namespace, the `scipy.ndimage.filters` namespace is deprecated.\n",
      "  out_flipped = sc.ndimage.filters.gaussian_filter(out,1.5)\n"
     ]
    }
   ],
   "source": [
    "#DRUNK CAT\n",
    "out_flipped = sc.ndimage.filters.gaussian_filter(out,1.5)\n",
    "\n",
    "\n",
    "frames = [Image.fromarray(out_flipped[i], mode='RGB') for i in range(len(out_flipped))]\n",
    "\n",
    "frames[0].save('drunk_catgif.gif', format='GIF', save_all=True, append_images=frames[1:], duration=80, loop=0)"
   ]
  },
  {
   "cell_type": "code",
   "execution_count": 59,
   "metadata": {},
   "outputs": [],
   "source": [
    "# ANTI-CAT\n",
    "out_flipped = np.invert(out)\n",
    "\n",
    "# Convert the modified numpy array back to a list of PIL Image objects\n",
    "frames = [Image.fromarray(out_flipped[i], mode='RGB') for i in range(len(out_flipped))]\n",
    "\n",
    "# Save the modified GIF file\n",
    "frames[0].save('anti_catgif.gif', format='GIF', save_all=True, append_images=frames[1:], duration=80, loop=0)"
   ]
  },
  {
   "cell_type": "code",
   "execution_count": 60,
   "metadata": {},
   "outputs": [],
   "source": [
    "out_rgb = out[:, :, :, :3]\n",
    "filter_value = -10\n",
    "\n",
    "b_filter = np.clip(out_rgb - filter_value, 0, 255)\n",
    "\n",
    "frames = [Image.fromarray(b_filter[i], mode='RGB') for i in range(len(b_filter))]\n",
    "\n",
    "frames[0].save('this_catgif.gif', format='GIF', save_all=True, append_images=frames[1:], duration=80, loop=0)"
   ]
  },
  {
   "cell_type": "code",
   "execution_count": 61,
   "metadata": {},
   "outputs": [],
   "source": [
    "out_rgb = out[:, :, :, :3]\n",
    "r_filter_value = 20\n",
    "g_filter_value = 18\n",
    "b_filter_value = 9\n",
    "\n",
    "# Subtract the filter value from each RGB channel\n",
    "r_filter = np.clip(out_rgb[:, :, :, 0] - r_filter_value, 0, 255)\n",
    "g_filter = np.clip(out_rgb[:, :, :, 1] - g_filter_value, 0, 255)\n",
    "b_filter = np.clip(out_rgb[:, :, :, 2] - b_filter_value, 0, 255)\n",
    "\n",
    "# Combine the filtered RGB channels into a single numpy array\n",
    "b_filter = np.stack([r_filter, g_filter, b_filter], axis=-1)\n",
    "\n",
    "# Create a list of PIL Image objects from the modified numpy array\n",
    "frames = [Image.fromarray(b_filter[i], mode='RGB') for i in range(len(b_filter))]\n",
    "\n",
    "# Save the new GIF file\n",
    "frames[0].save('3new_catgif.gif', format='GIF', save_all=True, append_images=frames[1:], duration=80, loop=0)"
   ]
  },
  {
   "cell_type": "markdown",
   "metadata": {},
   "source": [
    "## Add something to the video"
   ]
  },
  {
   "cell_type": "code",
   "execution_count": 62,
   "metadata": {},
   "outputs": [],
   "source": [
    "# Create a red heart-shaped figure to paste onto each frame\n",
    "\n",
    "line_size = (300,40)\n",
    "line_color = (0,0,0,0)\n",
    "line = Image.new('RGBA',line_size,line_color)\n",
    "draw = ImageDraw.Draw(line)"
   ]
  },
  {
   "cell_type": "markdown",
   "metadata": {},
   "source": [
    "Loop over each frame of the original GIF file and copy it into the array"
   ]
  },
  {
   "cell_type": "code",
   "execution_count": 63,
   "metadata": {},
   "outputs": [],
   "source": [
    "im = Image.open('catgif.gif')\n",
    "frames=[]\n",
    "\n",
    "for i in range (len(out)):\n",
    "    im.seek(i)\n",
    "    points = [(10+(i*5),10),(40+5*i,40)]\n",
    "    draw.ellipse(points,fill = \"blue\" )\n",
    "    frame = np.array(im.convert('RGBA'))\n",
    "    #paste it onto the frame\n",
    "    frame[0:line_size[1],0:line_size[0]] = np.array(line)\n",
    "    frames.append(Image.fromarray(frame,mode='RGBA'))\n",
    "    \n",
    "    \n",
    "#save the new gif \n",
    "frames[0].save(\"new_catgif_with_line.gif\", format='GIF', save_all=True, append_images=frames[1:],duration=80,loop=0)"
   ]
  },
  {
   "cell_type": "markdown",
   "metadata": {},
   "source": [
    "## Frame recognition"
   ]
  },
  {
   "cell_type": "markdown",
   "metadata": {},
   "source": [
    "We calculate for each its frame mean pixel value and compare it with the value of a black pixel"
   ]
  },
  {
   "cell_type": "code",
   "execution_count": 64,
   "metadata": {},
   "outputs": [],
   "source": [
    "prom = (np.apply_over_axes(np.sum, out, [1,2,3])/(382*300)).reshape(-1)\n",
    "ref_value = 0 # ref value for black\n",
    "\n",
    "comparison = np.abs(prom-ref_value)\n",
    "\n",
    "detection = comparison>450 # This was selected by seeing the array values, there is no good prediction using the image mean pixel value\n",
    "\n",
    "detection = pd.Series(detection) # Use series to filter using indexes\n",
    "detection = detection[detection]\n",
    "\n",
    "d = out[detection.index]"
   ]
  },
  {
   "cell_type": "markdown",
   "metadata": {},
   "source": [
    "Now we store the detected frames as Image objects"
   ]
  },
  {
   "cell_type": "code",
   "execution_count": 65,
   "metadata": {},
   "outputs": [
    {
     "name": "stdout",
     "output_type": "stream",
     "text": [
      "24\n"
     ]
    }
   ],
   "source": [
    "frames_detect = [Image.fromarray(d[i], mode='RGB') for i in range(len(d))] # revert detected frames \n",
    "print(len(frames_detect))\n",
    "frames_detect[15].show()\n"
   ]
  },
  {
   "cell_type": "markdown",
   "metadata": {},
   "source": [
    "Note that using the average pixel value of the image was not a good indicator for detecting the black piece in the image"
   ]
  }
 ],
 "metadata": {
  "kernelspec": {
   "display_name": "Python 3 (ipykernel)",
   "language": "python",
   "name": "python3"
  },
  "language_info": {
   "codemirror_mode": {
    "name": "ipython",
    "version": 3
   },
   "file_extension": ".py",
   "mimetype": "text/x-python",
   "name": "python",
   "nbconvert_exporter": "python",
   "pygments_lexer": "ipython3",
   "version": "3.9.12"
  },
  "vscode": {
   "interpreter": {
    "hash": "ed86cd87725ed3eb26236ff68aec3c2b48ba86ad759f4f31f53d096e39ba85b5"
   }
  }
 },
 "nbformat": 4,
 "nbformat_minor": 2
}
